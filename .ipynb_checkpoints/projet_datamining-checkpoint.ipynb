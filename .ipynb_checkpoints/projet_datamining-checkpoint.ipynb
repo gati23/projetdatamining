{
 "cells": [
  {
   "cell_type": "code",
   "execution_count": 12,
   "metadata": {},
   "outputs": [
    {
     "name": "stdout",
     "output_type": "stream",
     "text": [
      "brazilian       ->        467\n",
      "british         ->        804\n",
      "cajun_creole    ->       1546\n",
      "chinese         ->       2673\n",
      "filipino        ->        755\n",
      "french          ->       2646\n",
      "greek           ->       1175\n",
      "indian          ->       3003\n",
      "irish           ->        667\n",
      "italian         ->       7838\n",
      "jamaican        ->        526\n",
      "japanese        ->       1423\n",
      "korean          ->        830\n",
      "mexican         ->       6438\n",
      "moroccan        ->        821\n",
      "russian         ->        489\n",
      "southern_us     ->       4320\n",
      "spanish         ->        989\n",
      "thai            ->       1539\n",
      "vietnamese      ->        825\n"
     ]
    }
   ],
   "source": [
    "import pandas as pd\n",
    "import matplotlib.pyplot as plt\n",
    "\n",
    "# reading the file as dataframe and getting summary #\n",
    "df = pd.read_json('train.json')\n",
    "\n",
    "# grouping the rows based on id and get the rainfall #\n",
    "df_grouped = df.groupby(['cuisine'])\n",
    "\n",
    "for cuisine in df_grouped.groups.keys():\n",
    "    print('{0:15} -> {1:10}'.format(cuisine,len(df_grouped.groups[cuisine])))\n"
   ]
  }
 ],
 "metadata": {
  "kernelspec": {
   "display_name": "Python 3",
   "language": "python",
   "name": "python3"
  },
  "language_info": {
   "codemirror_mode": {
    "name": "ipython",
    "version": 3
   },
   "file_extension": ".py",
   "mimetype": "text/x-python",
   "name": "python",
   "nbconvert_exporter": "python",
   "pygments_lexer": "ipython3",
   "version": "3.6.8"
  }
 },
 "nbformat": 4,
 "nbformat_minor": 2
}
